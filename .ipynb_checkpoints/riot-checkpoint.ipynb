{
 "cells": [
  {
   "cell_type": "code",
   "execution_count": 1,
   "id": "6d65d000-01e4-410a-abbd-cd8b315d0902",
   "metadata": {},
   "outputs": [
    {
     "name": "stdout",
     "output_type": "stream",
     "text": [
      "Collecting boto3\n",
      "  Downloading boto3-1.40.61-py3-none-any.whl.metadata (6.6 kB)\n",
      "Requirement already satisfied: python-dotenv in c:\\users\\asraf\\anaconda3\\lib\\site-packages (0.21.0)\n",
      "Collecting botocore<1.41.0,>=1.40.61 (from boto3)\n",
      "  Downloading botocore-1.40.61-py3-none-any.whl.metadata (5.7 kB)\n",
      "Requirement already satisfied: jmespath<2.0.0,>=0.7.1 in c:\\users\\asraf\\anaconda3\\lib\\site-packages (from boto3) (1.0.1)\n",
      "Collecting s3transfer<0.15.0,>=0.14.0 (from boto3)\n",
      "  Downloading s3transfer-0.14.0-py3-none-any.whl.metadata (1.7 kB)\n",
      "Requirement already satisfied: python-dateutil<3.0.0,>=2.1 in c:\\users\\asraf\\anaconda3\\lib\\site-packages (from botocore<1.41.0,>=1.40.61->boto3) (2.9.0.post0)\n",
      "Requirement already satisfied: urllib3!=2.2.0,<3,>=1.25.4 in c:\\users\\asraf\\anaconda3\\lib\\site-packages (from botocore<1.41.0,>=1.40.61->boto3) (2.2.2)\n",
      "Requirement already satisfied: six>=1.5 in c:\\users\\asraf\\anaconda3\\lib\\site-packages (from python-dateutil<3.0.0,>=2.1->botocore<1.41.0,>=1.40.61->boto3) (1.16.0)\n",
      "Downloading boto3-1.40.61-py3-none-any.whl (139 kB)\n",
      "   ---------------------------------------- 0.0/139.3 kB ? eta -:--:--\n",
      "   -- ------------------------------------- 10.2/139.3 kB ? eta -:--:--\n",
      "   ----------------------------- ---------- 102.4/139.3 kB 1.5 MB/s eta 0:00:01\n",
      "   ---------------------------------------- 139.3/139.3 kB 1.4 MB/s eta 0:00:00\n",
      "Downloading botocore-1.40.61-py3-none-any.whl (14.1 MB)\n",
      "   ---------------------------------------- 0.0/14.1 MB ? eta -:--:--\n",
      "   - -------------------------------------- 0.6/14.1 MB 17.0 MB/s eta 0:00:01\n",
      "   -- ------------------------------------- 1.0/14.1 MB 15.9 MB/s eta 0:00:01\n",
      "   ---- ----------------------------------- 1.7/14.1 MB 13.5 MB/s eta 0:00:01\n",
      "   -------- ------------------------------- 2.9/14.1 MB 16.6 MB/s eta 0:00:01\n",
      "   ----------- ---------------------------- 4.0/14.1 MB 19.6 MB/s eta 0:00:01\n",
      "   -------------- ------------------------- 5.1/14.1 MB 20.2 MB/s eta 0:00:01\n",
      "   ---------------- ----------------------- 5.7/14.1 MB 20.1 MB/s eta 0:00:01\n",
      "   ------------------ --------------------- 6.6/14.1 MB 19.3 MB/s eta 0:00:01\n",
      "   ----------------------- ---------------- 8.1/14.1 MB 20.8 MB/s eta 0:00:01\n",
      "   --------------------------- ------------ 9.6/14.1 MB 22.0 MB/s eta 0:00:01\n",
      "   ------------------------------ --------- 10.6/14.1 MB 22.6 MB/s eta 0:00:01\n",
      "   -------------------------------- ------- 11.4/14.1 MB 23.4 MB/s eta 0:00:01\n",
      "   ---------------------------------- ----- 12.0/14.1 MB 24.2 MB/s eta 0:00:01\n",
      "   ------------------------------------- -- 13.3/14.1 MB 23.4 MB/s eta 0:00:01\n",
      "   ---------------------------------------  14.0/14.1 MB 23.4 MB/s eta 0:00:01\n",
      "   ---------------------------------------- 14.1/14.1 MB 20.5 MB/s eta 0:00:00\n",
      "Downloading s3transfer-0.14.0-py3-none-any.whl (85 kB)\n",
      "   ---------------------------------------- 0.0/85.7 kB ? eta -:--:--\n",
      "   ---------------------------------------- 85.7/85.7 kB 4.7 MB/s eta 0:00:00\n",
      "Installing collected packages: botocore, s3transfer, boto3\n",
      "  Attempting uninstall: botocore\n",
      "    Found existing installation: botocore 1.34.69\n",
      "    Uninstalling botocore-1.34.69:\n",
      "      Successfully uninstalled botocore-1.34.69\n",
      "Successfully installed boto3-1.40.61 botocore-1.40.61 s3transfer-0.14.0\n"
     ]
    },
    {
     "name": "stderr",
     "output_type": "stream",
     "text": [
      "ERROR: pip's dependency resolver does not currently take into account all the packages that are installed. This behaviour is the source of the following dependency conflicts.\n",
      "aiobotocore 2.12.3 requires botocore<1.34.70,>=1.34.41, but you have botocore 1.40.61 which is incompatible.\n"
     ]
    }
   ],
   "source": [
    "#!pip install boto3 python-dotenv"
   ]
  },
  {
   "cell_type": "code",
   "execution_count": 21,
   "id": "4f8ba661-13a0-4042-af6c-6c0c08767256",
   "metadata": {},
   "outputs": [],
   "source": [
    "import os\n",
    "from pathlib import Path\n",
    "import boto3\n",
    "from dotenv import load_dotenv\n",
    "from botocore.exceptions import ClientError"
   ]
  },
  {
   "cell_type": "code",
   "execution_count": 23,
   "id": "a3b6c732-9bfa-419e-8f51-f251e9bfcf8a",
   "metadata": {},
   "outputs": [
    {
     "name": "stdout",
     "output_type": "stream",
     "text": [
      ".env written (RIOT_API_KEY, S3_BUCKET, AWS_REGION)\n"
     ]
    }
   ],
   "source": [
    "# create or update .env file\n",
    "env_text = \"\"\"RIOT_API_KEY=YOUR_RIOT_KEY_HERE\n",
    "S3_BUCKET=hackathon-s3-rift-rewind-mohammad\n",
    "AWS_REGION=us-east-1\n",
    "\"\"\"\n",
    "Path(\".env\").write_text(env_text)\n",
    "print(\".env written (RIOT_API_KEY, S3_BUCKET, AWS_REGION)\")"
   ]
  },
  {
   "cell_type": "code",
   "execution_count": 25,
   "id": "815dc20e-4841-40f6-9783-6efbd7432daa",
   "metadata": {},
   "outputs": [
    {
     "data": {
      "text/plain": [
       "True"
      ]
     },
     "execution_count": 25,
     "metadata": {},
     "output_type": "execute_result"
    }
   ],
   "source": [
    "load_dotenv()"
   ]
  },
  {
   "cell_type": "code",
   "execution_count": 27,
   "id": "61c61117-612a-42b0-b5d1-a52dca2b755b",
   "metadata": {},
   "outputs": [
    {
     "name": "stdout",
     "output_type": "stream",
     "text": [
      "RIOT_API_KEY loaded: True\n",
      "Bucket: hackathon-s3-rift-rewind-mohammad\n",
      "Region: us-east-1\n"
     ]
    }
   ],
   "source": [
    "# access and verify environment variables\n",
    "riot_key_loaded = bool(os.getenv(\"RIOT_API_KEY\"))\n",
    "bucket = os.getenv(\"S3_BUCKET\", \"hackathon-s3-rift-rewind-mohammad\")\n",
    "region = os.getenv(\"AWS_REGION\", \"us-east-1\")\n",
    "\n",
    "print(\"RIOT_API_KEY loaded:\", riot_key_loaded)\n",
    "print(\"Bucket:\", bucket)\n",
    "print(\"Region:\", region)"
   ]
  },
  {
   "cell_type": "code",
   "execution_count": 31,
   "id": "aeaf8466-8401-4592-8f03-7249c6ab47d0",
   "metadata": {},
   "outputs": [
    {
     "name": "stdout",
     "output_type": "stream",
     "text": [
      "S3 client ready for bucket: hackathon-s3-rift-rewind-mohammad\n"
     ]
    }
   ],
   "source": [
    "#create S3 client\n",
    "try:\n",
    "    s3 = boto3.client(\"s3\", region_name=region)\n",
    "    print(\"S3 client ready for bucket:\", bucket)\n",
    "except ClientError as e:\n",
    "    print(\"Failed to create S3 client:\", e)"
   ]
  },
  {
   "cell_type": "code",
   "execution_count": 37,
   "id": "5f93d799-b71a-4b88-9537-0bd02ae5bf59",
   "metadata": {},
   "outputs": [],
   "source": [
    "def upload_to_s3(local_path, s3_key):\n",
    "    try:\n",
    "        s3.upload_file(local_path, bucket, s3_key)\n",
    "        print(f\"Uploaded {local_path} → s3://{bucket}/{s3_key}\")\n",
    "    except ClientError as e:\n",
    "        print(\"Upload failed:\", e)"
   ]
  },
  {
   "cell_type": "code",
   "execution_count": 39,
   "id": "fabb2389-13a5-468d-9b3e-46b4df285790",
   "metadata": {},
   "outputs": [],
   "source": [
    "def list_s3_objects(prefix=\"\"):\n",
    "    try:\n",
    "        resp = s3.list_objects_v2(Bucket=bucket, Prefix=prefix)\n",
    "        if \"Contents\" in resp:\n",
    "            print(f\"Objects under '{prefix}':\")\n",
    "            for obj in resp[\"Contents\"]:\n",
    "                print(\"   •\", obj[\"Key\"])\n",
    "        else:\n",
    "            print(f\"(no objects under '{prefix}')\")\n",
    "    except ClientError as e:\n",
    "        print(\"List failed:\", e)"
   ]
  },
  {
   "cell_type": "code",
   "execution_count": 41,
   "id": "6173815c-519e-4642-b488-be53081879ca",
   "metadata": {},
   "outputs": [
    {
     "name": "stdout",
     "output_type": "stream",
     "text": [
      "Uploaded day1.txt → s3://hackathon-s3-rift-rewind-mohammad/raw/day1.txt\n"
     ]
    }
   ],
   "source": [
    "upload_to_s3(\"day1.txt\", \"raw/day1.txt\")"
   ]
  },
  {
   "cell_type": "code",
   "execution_count": 43,
   "id": "9a97ba25-1ecd-4207-a52a-cdefd1e09071",
   "metadata": {},
   "outputs": [
    {
     "name": "stdout",
     "output_type": "stream",
     "text": [
      "Objects under 'raw/':\n",
      "   • raw/\n",
      "   • raw/day1.txt\n"
     ]
    }
   ],
   "source": [
    "list_s3_objects(\"raw/\")"
   ]
  },
  {
   "cell_type": "code",
   "execution_count": null,
   "id": "6b35f1a0-9ded-493b-b228-a430020ed4fc",
   "metadata": {},
   "outputs": [],
   "source": []
  }
 ],
 "metadata": {
  "kernelspec": {
   "display_name": "Python 3 (ipykernel)",
   "language": "python",
   "name": "python3"
  },
  "language_info": {
   "codemirror_mode": {
    "name": "ipython",
    "version": 3
   },
   "file_extension": ".py",
   "mimetype": "text/x-python",
   "name": "python",
   "nbconvert_exporter": "python",
   "pygments_lexer": "ipython3",
   "version": "3.12.4"
  }
 },
 "nbformat": 4,
 "nbformat_minor": 5
}
